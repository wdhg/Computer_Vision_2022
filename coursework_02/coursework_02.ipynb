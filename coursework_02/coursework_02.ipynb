{
 "cells": [
  {
   "cell_type": "markdown",
   "metadata": {},
   "source": [
    "# Coursework 2: Fish Classification\n",
    "\n",
    "Created by Athanasios Vlontzos and Wenjia Bai\n",
    "\n",
    "In this coursework, you will be exploring the application of convolutional neural networks for image classification tasks. As opposed to standard applications such as object or face classification, we will be dealing with a slightly different domain, fish classification for precision fishing.\n",
    "\n",
    "In precision fishing, engineers and fishmen collaborate to extract a wide variety of information about the fish, their species and wellbeing etc. using data from satellite images to drones surveying the fisheries. The goal of precision fishing is to provide the marine industry with information to support their decision making processes.\n",
    "\n",
    "Here your will develop an image classification model that can classify fish species given input images. It consists of two tasks. The first task is to train a model for the following species:\n",
    "- Black Sea Sprat\n",
    "- Gilt-Head Bream\n",
    "- Shrimp\n",
    "- Striped Red Mullet\n",
    "- Trout\n",
    "\n",
    "The second task is to finetune the last layer of the trained model to adapt to some new species, including:\n",
    "- Hourse Mackerel\n",
    "- Red Mullet\n",
    "- Red Sea Bream\n",
    "- Sea Bass\n",
    "\n",
    "You will be working using a large-scale fish dataset [1].\n",
    "\n",
    "[1] O. Ulucan, D. Karakaya and M. Turkan. A large-scale dataset for fish segmentation and classification. Innovations in Intelligent Systems and Applications Conference (ASYU). 2020."
   ]
  },
  {
   "cell_type": "markdown",
   "metadata": {},
   "source": [
    "## Step 0: Download data.\n",
    "\n",
    "[Download the Data from here -- make sure you access it with your Imperial account.](https://imperiallondon-my.sharepoint.com/:f:/g/personal/av2514_ic_ac_uk/EkA9HyXVvgdFoLI4P_IfO1cBO_CsvY1KN4NE8iuD-s_VlA?e=Ip03rF)\n",
    "\n",
    "It is a ~2.5GB file. You can save the images and annotations directories in the same directory as this notebook or somewhere else.\n",
    "\n",
    "The fish dataset contains 9 species of fishes. There are 1,000 images for each fish species, named as %05d.png in each subdirectory."
   ]
  },
  {
   "cell_type": "markdown",
   "metadata": {},
   "source": [
    "## Step 1: Load the data. (15 Points)\n",
    "\n",
    "- Complete the dataset class with the skeleton below.\n",
    "- Add any transforms you feel are necessary.\n",
    "\n",
    "Your class should have at least 3 elements\n",
    "- An ```__init__``` function that sets up your class and all the necessary parameters.\n",
    "- An ```__len__``` function that returns the size of your dataset.\n",
    "- An ```__getitem__``` function that given an index within the limits of the size of the dataset returns the associated image and label in tensor form.\n",
    "\n",
    "You may add more helper functions if you want.\n",
    "\n",
    "In this section we are following the Pytorch [dataset](https://pytorch.org/vision/stable/datasets.html) class structure. You can take inspiration from their documentation."
   ]
  },
  {
   "cell_type": "code",
   "execution_count": null,
   "metadata": {
    "collapsed": false,
    "jupyter": {
     "outputs_hidden": false
    },
    "pycharm": {
     "name": "#%%\n"
    }
   },
   "outputs": [],
   "source": [
    "# Dependencies\n",
    "import pandas as pd\n",
    "from torch.utils.data import Dataset, DataLoader\n",
    "from torchvision import transforms\n",
    "from torchvision.datasets import ImageFolder\n",
    "import os\n",
    "from PIL import Image\n",
    "import numpy as np\n",
    "from tqdm import tqdm\n",
    "import torch\n",
    "import torch.nn as nn\n",
    "import torch.nn.functional as F\n",
    "import matplotlib.pyplot as plt\n",
    "import glob\n",
    "import random"
   ]
  },
  {
   "cell_type": "code",
   "execution_count": null,
   "metadata": {
    "collapsed": false,
    "jupyter": {
     "outputs_hidden": false
    },
    "pycharm": {
     "name": "#%%\n"
    }
   },
   "outputs": [],
   "source": [
    "# We will start by building a dataset class using the following 5 species of fishes\n",
    "Multiclass_labels_correspondances = {\n",
    "    'Black Sea Sprat': 0,\n",
    "    'Gilt-Head Bream': 1,\n",
    "    'Shrimp': 2,\n",
    "    'Striped Red Mullet': 3,\n",
    "    'Trout': 4\n",
    "}\n",
    "\n",
    "# The 5 species will contain 5,000 images in total.\n",
    "# Let us split the 5,000 images into training (80%) and test (20%) sets\n",
    "SPECIES_DATASET_SIZE = 1000\n",
    "\n",
    "# assuming even split across all classes\n",
    "def split_train_test(lendata, num_classes, percentage=0.8):\n",
    "    images_per_class = int(lendata / num_classes)\n",
    "    training_images_per_class = int(images_per_class * percentage)\n",
    "    testing_images_count_per_class = images_per_class - training_images_per_class\n",
    "    \n",
    "    idx = 0\n",
    "    idxs_train = []\n",
    "    idxs_test = []\n",
    "        \n",
    "    for _ in range(int(num_classes)):\n",
    "        idxs_train.extend(range(idx, idx + training_images_per_class))\n",
    "        idx += training_images_per_class\n",
    "        idxs_test.extend(range(idx, idx + testing_images_count_per_class))\n",
    "        idx += testing_images_count_per_class\n",
    "        \n",
    "    return idxs_train, idxs_test\n",
    "\n",
    "LENDATA = 5000\n",
    "np.random.seed(42)\n",
    "idxs_train, idxs_test = split_train_test(LENDATA, len(Multiclass_labels_correspondances), 0.8)\n",
    "\n",
    "class DatasetImage():\n",
    "    \n",
    "    def __init__(self,\n",
    "                image,\n",
    "                label):\n",
    "        self.image = image\n",
    "        self.label = label\n",
    "    \n",
    "# Implement the dataset class\n",
    "class FishDataset(ImageFolder):\n",
    "    \n",
    "    def __init__(self,\n",
    "                 path_to_images,\n",
    "                 idxs_train,\n",
    "                 idxs_test,\n",
    "                 transform_extra=None,\n",
    "                 img_size=128,\n",
    "                 train=True):\n",
    "        super().__init__(path_to_images)\n",
    "        # path_to_images: where you put the fish dataset\n",
    "        # idxs_train: training set indexes\n",
    "        # idxs_test: test set indexes\n",
    "        # transform_extra: extra data transform\n",
    "        # img_size: resize all images to a standard size\n",
    "        # train: return training set or test set\n",
    "        \n",
    "        self.idxs = idxs_train if train else idxs_test\n",
    "        self.size = len(self.idxs)\n",
    "        self.images = []\n",
    "        self.class_idxs = {}\n",
    "        \n",
    "        transform = transforms.Compose([\n",
    "            transforms.Resize((img_size, img_size)),\n",
    "            transforms.ToTensor()\n",
    "        ])\n",
    "        \n",
    "        class_files = {}\n",
    "        \n",
    "        # get filenames\n",
    "        for label in Multiclass_labels_correspondances:\n",
    "            class_files[label] = sorted(glob.glob(f'{path_to_images}/{label}/*.png'))\n",
    "        \n",
    "        idx = 0\n",
    "        \n",
    "        for label in class_files.keys():\n",
    "            self.class_idxs[label] = []\n",
    "            \n",
    "            for file in class_files[label]:\n",
    "                if idx not in self.idxs:\n",
    "                    idx += 1\n",
    "                    continue\n",
    "                    \n",
    "                image = Image.open(file)\n",
    "                image = transform(image)\n",
    "                self.images.append(DatasetImage(image, label))\n",
    "                self.class_idxs[label].append(len(self.images) - 1)\n",
    "        \n",
    "        \n",
    "    def __len__(self):\n",
    "        return self.size\n",
    "        \n",
    "    def __getitem__(self, idx):\n",
    "        dataset_image = self.images[idx]\n",
    "        return dataset_image.image, Multiclass_labels_correspondances[dataset_image.label]"
   ]
  },
  {
   "cell_type": "markdown",
   "metadata": {},
   "source": [
    "## Step 2: Explore the data. (15 Points)\n",
    "\n",
    "### Step 2.1: Data visualisation. (5 points)\n",
    "\n",
    "- Plot data distribution, i.e. the number of samples per class.\n",
    "- Plot 1 sample from each of the five classes in the training set."
   ]
  },
  {
   "cell_type": "code",
   "execution_count": null,
   "metadata": {
    "collapsed": false,
    "jupyter": {
     "outputs_hidden": false
    },
    "pycharm": {
     "name": "#%%\n"
    }
   },
   "outputs": [],
   "source": [
    "# Training set\n",
    "img_path = './archive/Fish_Dataset/Fish_Dataset'\n",
    "dataset  = FishDataset(img_path, idxs_train, idxs_test, None, img_size=128, train=True)"
   ]
  },
  {
   "cell_type": "code",
   "execution_count": null,
   "metadata": {},
   "outputs": [],
   "source": [
    "# Plot the number of samples per class\n",
    "classes = list(Multiclass_labels_correspondances.keys())\n",
    "counts = [len(dataset.class_idxs[c]) for c in classes]\n",
    "\n",
    "plt.bar(classes, counts)\n",
    "plt.xticks(range(len(classes)), classes, rotation=90)\n",
    "plt.show()"
   ]
  },
  {
   "cell_type": "code",
   "execution_count": null,
   "metadata": {},
   "outputs": [],
   "source": [
    "# Plot 1 sample from each of the five classes in the training set\n",
    "figure, axis = plt.subplots(1, 5)\n",
    "\n",
    "for i, c in enumerate(classes):\n",
    "    idx = np.random.choice(dataset.class_idxs[c])\n",
    "    image, label = dataset[idx]\n",
    "    image = np.transpose(image.detach().numpy(), (1,2,0))\n",
    "    axis[i].imshow(image)\n",
    "    \n",
    "plt.gcf().set_size_inches(15, 3)\n",
    "plt.show()"
   ]
  },
  {
   "cell_type": "markdown",
   "metadata": {},
   "source": [
    "### Step 2.2: Discussion. (10 points)\n",
    "\n",
    "* Is the dataset balanced?\n",
    "\n",
    "* Can you think of 3 ways to make the dataset balanced if it is not?\n",
    "\n",
    "* Is the dataset already pre-processed? If yes, how?"
   ]
  },
  {
   "cell_type": "markdown",
   "metadata": {},
   "source": [
    "The dataset is balanced as there is an equal number of images per class.\n",
    "\n",
    "The dataset is not pre-processed. The fish are not centred, rotated the same direction, or normalised."
   ]
  },
  {
   "cell_type": "markdown",
   "metadata": {},
   "source": [
    "## Step 3: Multiclass classification. (55 points)\n",
    "In this section we will try to make a multiclass classifier to determine the species of the fish.\n",
    "\n",
    "### Step 3.1: Define the model. (15 points)\n",
    "\n",
    "Design a neural network which consists of a number of convolutional layers and a few fully connected ones at the end.\n",
    "\n",
    "The exact architecture is up to you but you do NOT need to create something complicated. For example, you could design a LeNet insprired network."
   ]
  },
  {
   "cell_type": "code",
   "execution_count": 38,
   "metadata": {
    "collapsed": false,
    "jupyter": {
     "outputs_hidden": false
    },
    "pycharm": {
     "name": "#%%\n"
    }
   },
   "outputs": [],
   "source": [
    "class Net(nn.Module):\n",
    "    def __init__(self, output_dims = 1):\n",
    "        super(Net, self).__init__()\n",
    "        # 3x128x128\n",
    "        # self.add_module(\"conv1\", torch.nn.Conv2d(3, 1, (5,5), padding=2))\n",
    "        # 1x128x128\n",
    "        # self.add_module(\"sigmoid1\", torch.nn.Sigmoid())\n",
    "        # 1x128x128\n",
    "        # self.add_module(\"pool1\", torch.nn.AvgPool2d(2, stride=2))\n",
    "        # 1x64x64\n",
    "        # self.add_module(\"conv2\", torch.nn.Conv2d(1, 1, (5,5)))\n",
    "        # 1x60x60\n",
    "        # self.add_module(\"sigmoid2\", torch.nn.Sigmoid())\n",
    "        # 1x60x60\n",
    "        # elf.add_module(\"pool2\", torch.nn.AvgPool2d(2, stride=2))\n",
    "        # 1x30x30\n",
    "        # self.add_module(\"flatten\", torch.nn.Flatten())\n",
    "        # 60\n",
    "        # self.add_module(\"linear1\", torch.nn.Linear(60, 30))\n",
    "        # 30\n",
    "        # self.add_module(\"linear2\", torch.nn.Linear(30, 10))\n",
    "        # 10\n",
    "        # self.add_module(\"linear3\", torch.nn.Linear(10, output_dims))\n",
    "        \n",
    "        # 3x128x128\n",
    "        self.add_module(\"conv1\", torch.nn.Conv2d(3, 1, (5,5), padding=2))\n",
    "        # 1x128x128\n",
    "        # self.add_module(\"sigmoid1\", torch.nn.Sigmoid())\n",
    "        self.add_module(\"pool1\", torch.nn.AvgPool2d(2, stride=2))\n",
    "        # 1x64x64\n",
    "        self.add_module(\"conv2\", torch.nn.Conv2d(1, 1, (5,5), padding=2))\n",
    "        # 1x64x64\n",
    "        # self.add_module(\"sigmoid2\", torch.nn.Sigmoid())\n",
    "        self.add_module(\"pool2\", torch.nn.AvgPool2d(2, stride=2))\n",
    "        # 1x32x32\n",
    "        self.add_module(\"conv3\", torch.nn.Conv2d(1, 1, (3,3), padding=1))\n",
    "        # 1x32x32\n",
    "        self.add_module(\"sigmoid3\", torch.nn.Sigmoid())\n",
    "        self.add_module(\"pool3\", torch.nn.AvgPool2d(2, stride=2))\n",
    "        # 1x16x16\n",
    "        self.add_module(\"flatten\", torch.nn.Flatten())\n",
    "        # 1x256\n",
    "        self.add_module(\"linear1\", torch.nn.Linear(256, 64))\n",
    "        self.add_module(\"linear2\", torch.nn.Linear(64, 16))\n",
    "        self.add_module(\"linear3\", torch.nn.Linear(16, output_dims))\n",
    "\n",
    "    def forward(self, x):\n",
    "        for layer in self.children():\n",
    "            x = layer(x)\n",
    "        return x\n",
    "\n",
    "# Since most of you use laptops, you may use CPU for training.\n",
    "# If you have a good GPU, you can set this to 'gpu'.\n",
    "device = 'cpu'"
   ]
  },
  {
   "cell_type": "markdown",
   "metadata": {},
   "source": [
    "### Step 3.2: Define the training parameters. (10 points)\n",
    "\n",
    "- Loss function\n",
    "- Optimizer\n",
    "- Learning Rate\n",
    "- Number of iterations\n",
    "- Batch Size\n",
    "- Other relevant hyperparameters"
   ]
  },
  {
   "cell_type": "code",
   "execution_count": 39,
   "metadata": {
    "collapsed": false,
    "jupyter": {
     "outputs_hidden": false
    },
    "pycharm": {
     "name": "#%%\n"
    }
   },
   "outputs": [],
   "source": [
    "# Network\n",
    "model = Net(output_dims=5) # one-hot output vector\n",
    "\n",
    "# Loss function\n",
    "criterion = torch.nn.L1Loss()\n",
    "\n",
    "# Optimiser and learning rate\n",
    "lr = 0.01\n",
    "optimizer = torch.optim.SGD(model.parameters(), lr=lr, momentum=0.5)\n",
    "\n",
    "# Number of iterations for training\n",
    "epochs = 10"
   ]
  },
  {
   "cell_type": "code",
   "execution_count": 35,
   "metadata": {},
   "outputs": [
    {
     "name": "stdout",
     "output_type": "stream",
     "text": [
      "Loading training dataset...\n",
      "Loading testing dataset...\n",
      "Done.\n"
     ]
    }
   ],
   "source": [
    "# Training batch size\n",
    "train_batch_size = 400\n",
    "\n",
    "# Based on the FishDataset, use the PyTorch DataLoader to load the data during model training\n",
    "print(\"Loading training dataset...\")\n",
    "train_dataset = FishDataset(img_path, idxs_train, idxs_test, None, img_size=128, train=True)\n",
    "train_dataloader = DataLoader(train_dataset, batch_size=train_batch_size, shuffle=True)\n",
    "print(\"Loading testing dataset...\")\n",
    "test_dataset = FishDataset(img_path, idxs_train, idxs_test, None, img_size=128, train=False)\n",
    "test_dataloader = DataLoader(test_dataset, shuffle=True)\n",
    "print(\"Done.\")"
   ]
  },
  {
   "cell_type": "markdown",
   "metadata": {},
   "source": [
    "### Step 3.3: Train the model. (15 points)\n",
    "\n",
    "Complete the training loop."
   ]
  },
  {
   "cell_type": "code",
   "execution_count": 40,
   "metadata": {},
   "outputs": [
    {
     "name": "stderr",
     "output_type": "stream",
     "text": [
      " 10%|█████████▌                                                                                     | 1/10 [00:09<01:27,  9.71s/it]"
     ]
    },
    {
     "name": "stdout",
     "output_type": "stream",
     "text": [
      "--- Iteration 1: training loss = 0.2847 ---\n"
     ]
    },
    {
     "name": "stderr",
     "output_type": "stream",
     "text": [
      " 20%|███████████████████                                                                            | 2/10 [00:18<01:13,  9.22s/it]"
     ]
    },
    {
     "name": "stdout",
     "output_type": "stream",
     "text": [
      "--- Iteration 2: training loss = 0.2138 ---\n"
     ]
    },
    {
     "name": "stderr",
     "output_type": "stream",
     "text": [
      " 30%|████████████████████████████▌                                                                  | 3/10 [00:27<01:02,  8.92s/it]"
     ]
    },
    {
     "name": "stdout",
     "output_type": "stream",
     "text": [
      "--- Iteration 3: training loss = 0.2092 ---\n"
     ]
    },
    {
     "name": "stderr",
     "output_type": "stream",
     "text": [
      " 40%|██████████████████████████████████████                                                         | 4/10 [00:36<00:54,  9.06s/it]"
     ]
    },
    {
     "name": "stdout",
     "output_type": "stream",
     "text": [
      "--- Iteration 4: training loss = 0.2091 ---\n"
     ]
    },
    {
     "name": "stderr",
     "output_type": "stream",
     "text": [
      " 50%|███████████████████████████████████████████████▌                                               | 5/10 [00:45<00:44,  8.93s/it]"
     ]
    },
    {
     "name": "stdout",
     "output_type": "stream",
     "text": [
      "--- Iteration 5: training loss = 0.2079 ---\n"
     ]
    },
    {
     "name": "stderr",
     "output_type": "stream",
     "text": [
      " 60%|█████████████████████████████████████████████████████████                                      | 6/10 [00:53<00:34,  8.74s/it]"
     ]
    },
    {
     "name": "stdout",
     "output_type": "stream",
     "text": [
      "--- Iteration 6: training loss = 0.2073 ---\n"
     ]
    },
    {
     "name": "stderr",
     "output_type": "stream",
     "text": [
      " 70%|██████████████████████████████████████████████████████████████████▌                            | 7/10 [01:02<00:26,  8.75s/it]"
     ]
    },
    {
     "name": "stdout",
     "output_type": "stream",
     "text": [
      "--- Iteration 7: training loss = 0.2068 ---\n"
     ]
    },
    {
     "name": "stderr",
     "output_type": "stream",
     "text": [
      " 80%|████████████████████████████████████████████████████████████████████████████                   | 8/10 [01:11<00:17,  8.89s/it]"
     ]
    },
    {
     "name": "stdout",
     "output_type": "stream",
     "text": [
      "--- Iteration 8: training loss = 0.2074 ---\n"
     ]
    },
    {
     "name": "stderr",
     "output_type": "stream",
     "text": [
      " 90%|█████████████████████████████████████████████████████████████████████████████████████▌         | 9/10 [01:20<00:08,  8.94s/it]"
     ]
    },
    {
     "name": "stdout",
     "output_type": "stream",
     "text": [
      "--- Iteration 9: training loss = 0.2086 ---\n"
     ]
    },
    {
     "name": "stderr",
     "output_type": "stream",
     "text": [
      "100%|██████████████████████████████████████████████████████████████████████████████████████████████| 10/10 [01:29<00:00,  8.96s/it]"
     ]
    },
    {
     "name": "stdout",
     "output_type": "stream",
     "text": [
      "--- Iteration 10: training loss = 0.2093 ---\n"
     ]
    },
    {
     "name": "stderr",
     "output_type": "stream",
     "text": [
      "\n"
     ]
    }
   ],
   "source": [
    "full_loss_curve = []\n",
    "\n",
    "for epoch in tqdm(range(epochs)):\n",
    "    model.train()\n",
    "    loss_curve = []\n",
    "    \n",
    "    for images, labels in train_dataloader:\n",
    "        # Get a batch of training data and train the model\n",
    "        pred = model(images)\n",
    "        loss = criterion(pred, torch.nn.functional.one_hot(labels, num_classes=5))\n",
    "        optimizer.zero_grad()\n",
    "        loss.backward()\n",
    "        optimizer.step()\n",
    "        loss_curve += [loss.item()]\n",
    "\n",
    "    full_loss_curve.extend(loss_curve)\n",
    "        \n",
    "    print('--- Iteration {0}: training loss = {1:.4f} ---'.format(epoch + 1, np.array(loss_curve).mean()))"
   ]
  },
  {
   "cell_type": "code",
   "execution_count": 41,
   "metadata": {},
   "outputs": [
    {
     "data": {
      "image/png": "[encoded data removed]",
      "text/plain": [
       "<Figure size 432x288 with 1 Axes>"
      ]
     },
     "metadata": {
      "needs_background": "light"
     },
     "output_type": "display_data"
    }
   ],
   "source": [
    "plt.plot(full_loss_curve)\n",
    "plt.show()"
   ]
  },
  {
   "cell_type": "markdown",
   "metadata": {},
   "source": [
    "### Step 3.4: Deploy the trained model onto the test set. (10 points)"
   ]
  },
  {
   "cell_type": "code",
   "execution_count": null,
   "metadata": {
    "collapsed": false,
    "jupyter": {
     "outputs_hidden": false
    },
    "pycharm": {
     "name": "#%%\n"
    }
   },
   "outputs": [],
   "source": [
    "# Deploy the model\n",
    "model.train(mode=False)\n"
   ]
  },
  {
   "cell_type": "markdown",
   "metadata": {},
   "source": [
    "### Step 3.5: Evaluate the performance of the model and visualize the confusion matrix. (5 points)\n",
    "\n",
    "You can use sklearns related function."
   ]
  },
  {
   "cell_type": "code",
   "execution_count": null,
   "metadata": {
    "collapsed": false,
    "jupyter": {
     "outputs_hidden": false
    },
    "pycharm": {
     "name": "#%%\n"
    }
   },
   "outputs": [],
   "source": [
    "#### ADD YOUR CODE HERE ####\n"
   ]
  },
  {
   "cell_type": "markdown",
   "metadata": {},
   "source": [
    "## Step 4: Finetune your classifier. (15 points)\n",
    "\n",
    "In the previous section, you have built a pretty good classifier for certain species of fish. Now we are going to use this trained classifier and adapt it to classify a new set of species:\n",
    "\n",
    "    'Hourse Mackerel\n",
    "    'Red Mullet',\n",
    "    'Red Sea Bream'\n",
    "    'Sea Bass'\n",
    "\n",
    "### Step 4.1: Set up the data for new species. (2 points)\n",
    "Overwrite the labels correspondances so they only incude the new classes and regenerate the datasets and dataloaders."
   ]
  },
  {
   "cell_type": "code",
   "execution_count": null,
   "metadata": {
    "collapsed": false,
    "jupyter": {
     "outputs_hidden": false
    },
    "pycharm": {
     "name": "#%%\n"
    }
   },
   "outputs": [],
   "source": [
    "Multiclass_labels_correspondances ={\n",
    "    'Hourse Mackerel': 0,\n",
    "    'Red Mullet': 1,\n",
    "    'Red Sea Bream': 2,\n",
    "    'Sea Bass': 3}\n",
    "\n",
    "LENDATA = 4000\n",
    "idxs_train,idxs_test = split_train_test(LENDATA, 0.8)\n",
    "\n",
    "# Dataloaders\n",
    "#### ADD YOUR CODE HERE ####"
   ]
  },
  {
   "cell_type": "markdown",
   "metadata": {},
   "source": [
    "### Step 4.2: Freeze the weights of all previous layers of the network except the last layer. (5 points)\n",
    "\n",
    "You can freeze them by setting the gradient requirements to ```False```."
   ]
  },
  {
   "cell_type": "code",
   "execution_count": null,
   "metadata": {
    "collapsed": false,
    "jupyter": {
     "outputs_hidden": false
    },
    "pycharm": {
     "name": "#%%\n"
    }
   },
   "outputs": [],
   "source": [
    "def freeze_till_last(model):\n",
    "    for param in model.parameters():\n",
    "        param.requires_grad = False\n",
    "\n",
    "freeze_till_last(model)\n",
    "# Modify the last layer. This layer is not freezed.\n",
    "#### ADD YOUR CODE HERE ####\n",
    "\n",
    "# Loss function\n",
    "criterion =\n",
    "\n",
    "# Optimiser and learning rate\n",
    "lr =\n",
    "optimizer =\n",
    "\n",
    "# Number of iterations for training\n",
    "epochs =\n",
    "\n",
    "# Training batch size\n",
    "train_batch_size ="
   ]
  },
  {
   "cell_type": "markdown",
   "metadata": {},
   "source": [
    "### Step 4.3: Train and test your finetuned model. (5 points)"
   ]
  },
  {
   "cell_type": "code",
   "execution_count": null,
   "metadata": {
    "collapsed": false,
    "jupyter": {
     "outputs_hidden": false
    },
    "pycharm": {
     "name": "#%%\n"
    }
   },
   "outputs": [],
   "source": [
    "# Finetune the model\n",
    "for epoch in tqdm(range(epochs)):\n",
    "    #### ADD YOUR CODE HERE ####\n",
    "\n",
    "# Deploy the model on the test set\n",
    "#### ADD YOUR CODE HERE ####\n",
    "\n",
    "# Evaluate the performance\n",
    "#### ADD YOUR CODE HERE ####"
   ]
  },
  {
   "cell_type": "markdown",
   "metadata": {},
   "source": [
    "### Step 4.4: Did finetuning work? Why did we freeze the first few layers? (3 points)"
   ]
  },
  {
   "cell_type": "markdown",
   "metadata": {},
   "source": [
    "#### ADD YOUR RESPONSE HERE ####"
   ]
  },
  {
   "cell_type": "code",
   "execution_count": null,
   "metadata": {},
   "outputs": [],
   "source": []
  }
 ],
 "metadata": {
  "kernelspec": {
   "display_name": "Python 3 (ipykernel)",
   "language": "python",
   "name": "python3"
  },
  "language_info": {
   "codemirror_mode": {
    "name": "ipython",
    "version": 3
   },
   "file_extension": ".py",
   "mimetype": "text/x-python",
   "name": "python",
   "nbconvert_exporter": "python",
   "pygments_lexer": "ipython3",
   "version": "3.9.7"
  }
 },
 "nbformat": 4,
 "nbformat_minor": 4
}
